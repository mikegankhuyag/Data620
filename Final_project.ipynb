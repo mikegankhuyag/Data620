{
 "cells": [
  {
   "cell_type": "markdown",
   "metadata": {},
   "source": [
    "# Data620 Final Project"
   ]
  },
  {
   "cell_type": "markdown",
   "metadata": {},
   "source": [
    "For my final project, I wanted to expand the spam classifer by using my own inbox to detect a spam email. This will require me to scrape my own inbox and personal mail to obtain regular emails and spam  emails to predict oncoming new emails are spam or not spam. \n"
   ]
  },
  {
   "cell_type": "code",
   "execution_count": 2,
   "metadata": {},
   "outputs": [
    {
     "name": "stderr",
     "output_type": "stream",
     "text": [
      "C:\\Users\\User\\Anaconda3\\lib\\site-packages\\sklearn\\cross_validation.py:41: DeprecationWarning: This module was deprecated in version 0.18 in favor of the model_selection module into which all the refactored classes and functions are moved. Also note that the interface of the new CV iterators are different from that of this module. This module will be removed in 0.20.\n",
      "  \"This module will be removed in 0.20.\", DeprecationWarning)\n",
      "C:\\Users\\User\\Anaconda3\\lib\\site-packages\\sklearn\\grid_search.py:42: DeprecationWarning: This module was deprecated in version 0.18 in favor of the model_selection module into which all the refactored classes and functions are moved. This module will be removed in 0.20.\n",
      "  DeprecationWarning)\n",
      "C:\\Users\\User\\Anaconda3\\lib\\site-packages\\sklearn\\learning_curve.py:22: DeprecationWarning: This module was deprecated in version 0.18 in favor of the model_selection module into which all the functions are moved. This module will be removed in 0.20\n",
      "  DeprecationWarning)\n"
     ]
    }
   ],
   "source": [
    "# Import modules for python\n",
    "import os\n",
    "import datetime\n",
    "from datetime import date\n",
    "from datetime import datetime as dt\n",
    "import win32com.client as win32com\n",
    "from bs4 import BeautifulSoup\n",
    "import re\n",
    "import zipfile\n",
    "import urllib\n",
    "import glob\n",
    "import sys\n",
    "import datetime\n",
    "import numpy as np\n",
    "import pandas as pd\n",
    "import sys \n",
    "from datetime import timedelta\n",
    "import re\n",
    "from nltk.corpus import stopwords\n",
    "\n",
    "from sklearn.feature_extraction.text import CountVectorizer, TfidfTransformer\n",
    "from sklearn.naive_bayes import MultinomialNB\n",
    "from sklearn.svm import SVC, LinearSVC\n",
    "from sklearn.metrics import classification_report, f1_score, accuracy_score, confusion_matrix\n",
    "from sklearn.pipeline import Pipeline\n",
    "from sklearn.grid_search import GridSearchCV\n",
    "from sklearn.cross_validation import StratifiedKFold, cross_val_score, train_test_split \n",
    "from sklearn.tree import DecisionTreeClassifier \n",
    "from sklearn.learning_curve import learning_curve"
   ]
  },
  {
   "cell_type": "markdown",
   "metadata": {},
   "source": [
    "## Set up Email Account\n",
    "\n",
    "For this project, I decided to use my school email address as a sample to creat a spam classifer. This was fairly complicated since it required me scraping my own inbox. For this I used the win32 package which is able to scrape packages on your windows such as outlook."
   ]
  },
  {
   "cell_type": "code",
   "execution_count": 3,
   "metadata": {},
   "outputs": [],
   "source": [
    "win32com.dynamic.Dispatch('Outlook.Application')\n",
    "outlook = win32com.Dispatch(\"Outlook.Application\")\n",
    "mapi = outlook.GetNamespace('MAPI')\n",
    "email = 'munkhnaran.gankhuyag84@spsmail.cuny.edu'"
   ]
  },
  {
   "cell_type": "markdown",
   "metadata": {},
   "source": [
    "The find folder function helps find the folder that I wanted to look into."
   ]
  },
  {
   "cell_type": "code",
   "execution_count": 4,
   "metadata": {},
   "outputs": [],
   "source": [
    "#create a function to find folder\n",
    "\n",
    "def findFolder(folderName,searchIn):\n",
    "    print(folderName)\n",
    "    print(searchIn)\n",
    "    result = None\n",
    "    try:\n",
    "        lowerAccount = searchIn.Folders\n",
    "        firstItem = lowerAccount.GetFirst()\n",
    "        if firstItem.Name.lower() == folderName.lower():\n",
    "            return firstItem\n",
    "        else:\n",
    "            while True:\n",
    "                NextItem = lowerAccount.GetNext()\n",
    "                if NextItem is None:\n",
    "                    print(\"Trouble accessing subfolder\")\n",
    "                    break\n",
    "                else:\n",
    "                    print(NextItem.Name)\n",
    "                    if NextItem.Name.lower() == folderName.lower():\n",
    "                        result = NextItem\n",
    "                        break\n",
    "                    else:\n",
    "                        continue\n",
    "    except:\n",
    "        print(\"Looks like we had an issue accessing the searchIn object\")\n",
    "    return result"
   ]
  },
  {
   "cell_type": "code",
   "execution_count": 5,
   "metadata": {
    "scrolled": true
   },
   "outputs": [
    {
     "name": "stdout",
     "output_type": "stream",
     "text": [
      "munkhnaran.gankhuyag84@spsmail.cuny.edu\n",
      "Mapi\n",
      "mikegankhuyag@outlook.com\n",
      "Munkhnaran.Gankhuyag84@spsmail.cuny.edu\n"
     ]
    }
   ],
   "source": [
    "#Access the main folder\n",
    "main_folder = findFolder(email, mapi)"
   ]
  },
  {
   "cell_type": "code",
   "execution_count": 6,
   "metadata": {},
   "outputs": [
    {
     "name": "stdout",
     "output_type": "stream",
     "text": [
      "Inbox\n",
      "Munkhnaran.Gankhuyag84@spsmail.cuny.edu\n",
      "Inbox\n"
     ]
    }
   ],
   "source": [
    "inbox = findFolder('Inbox', main_folder)"
   ]
  },
  {
   "cell_type": "code",
   "execution_count": 7,
   "metadata": {},
   "outputs": [
    {
     "name": "stdout",
     "output_type": "stream",
     "text": [
      "Junk Email\n",
      "Munkhnaran.Gankhuyag84@spsmail.cuny.edu\n",
      "Inbox\n",
      "Outbox\n",
      "Sent Items\n",
      "Contacts\n",
      "Yammer Root\n",
      "Tasks\n",
      "Scheduled\n",
      "PersonMetadata\n",
      "Notes\n",
      "Junk Email\n"
     ]
    }
   ],
   "source": [
    "junk = findFolder('Junk Email',main_folder)"
   ]
  },
  {
   "cell_type": "code",
   "execution_count": 8,
   "metadata": {},
   "outputs": [],
   "source": [
    "messages_inbox = inbox.Items\n",
    "messages_inbox.Sort('CreationTime', 1)"
   ]
  },
  {
   "cell_type": "code",
   "execution_count": 9,
   "metadata": {},
   "outputs": [
    {
     "data": {
      "text/plain": [
       "'Daily Notification Dashboard Summary'"
      ]
     },
     "execution_count": 9,
     "metadata": {},
     "output_type": "execute_result"
    }
   ],
   "source": [
    "messages_inbox.GetFirst().Subject"
   ]
  },
  {
   "cell_type": "code",
   "execution_count": 10,
   "metadata": {},
   "outputs": [],
   "source": [
    "messages_spam = junk.Items\n",
    "messages_spam.Sort('CreationTime', 1)"
   ]
  },
  {
   "cell_type": "code",
   "execution_count": 11,
   "metadata": {},
   "outputs": [
    {
     "data": {
      "text/plain": [
       "'Hey, is this your story?'"
      ]
     },
     "execution_count": 11,
     "metadata": {},
     "output_type": "execute_result"
    }
   ],
   "source": [
    "messages_spam.GetFirst().Subject"
   ]
  },
  {
   "cell_type": "markdown",
   "metadata": {},
   "source": [
    "I wanted to get a sample of both spam and inbox for testing. I created two seperate dataframes and then decided to concatinate the two data frame together."
   ]
  },
  {
   "cell_type": "code",
   "execution_count": 12,
   "metadata": {},
   "outputs": [],
   "source": [
    "#Get spam email for sample\n",
    "\n",
    "x = messages_spam.GetFirst().Body\n",
    "\n",
    "spam = []\n",
    "\n",
    "spam.append(x)\n",
    "\n",
    "for i in range(messages_spam.Count-1):\n",
    "    spam.append(messages_spam.GetNext().Body)\n",
    "    "
   ]
  },
  {
   "cell_type": "code",
   "execution_count": 13,
   "metadata": {},
   "outputs": [],
   "source": [
    "spam = [item.replace('\\r','').replace('\\n','').replace('/','') for item in spam]"
   ]
  },
  {
   "cell_type": "code",
   "execution_count": 14,
   "metadata": {},
   "outputs": [],
   "source": [
    "spam = pd.DataFrame(spam, columns=['email'])"
   ]
  },
  {
   "cell_type": "code",
   "execution_count": 15,
   "metadata": {},
   "outputs": [],
   "source": [
    "spam['type'] = 'spam'\n",
    "spam = spam[['type','email']]"
   ]
  },
  {
   "cell_type": "code",
   "execution_count": 16,
   "metadata": {},
   "outputs": [],
   "source": [
    "#Get email for sample\n",
    "x = messages_inbox.GetFirst().Body\n",
    "\n",
    "inbox = []\n",
    "\n",
    "inbox.append(x)\n",
    "\n",
    "for i in range(messages_inbox.Count-1):\n",
    "    inbox.append(messages_inbox.GetNext().Body)"
   ]
  },
  {
   "cell_type": "code",
   "execution_count": 17,
   "metadata": {},
   "outputs": [],
   "source": [
    "import random\n",
    "random.shuffle(inbox)"
   ]
  },
  {
   "cell_type": "code",
   "execution_count": 18,
   "metadata": {},
   "outputs": [],
   "source": [
    "inbox2 = inbox[:15]"
   ]
  },
  {
   "cell_type": "code",
   "execution_count": 19,
   "metadata": {},
   "outputs": [],
   "source": [
    "inbox2 = [item.replace('\\r','').replace('\\n','').replace('/','') for item in inbox2]"
   ]
  },
  {
   "cell_type": "code",
   "execution_count": 20,
   "metadata": {},
   "outputs": [],
   "source": [
    "inbox2 = pd.DataFrame(inbox2, columns =['email'])"
   ]
  },
  {
   "cell_type": "code",
   "execution_count": 21,
   "metadata": {},
   "outputs": [],
   "source": [
    "inbox2['type']= 'inbox'\n",
    "inbox2 = inbox2[['type','email']]"
   ]
  },
  {
   "cell_type": "code",
   "execution_count": 22,
   "metadata": {},
   "outputs": [],
   "source": [
    "all_email = pd.concat([inbox2,spam]).reset_index(drop=True)"
   ]
  },
  {
   "cell_type": "code",
   "execution_count": 23,
   "metadata": {},
   "outputs": [
    {
     "data": {
      "text/html": [
       "<div>\n",
       "<style scoped>\n",
       "    .dataframe tbody tr th:only-of-type {\n",
       "        vertical-align: middle;\n",
       "    }\n",
       "\n",
       "    .dataframe tbody tr th {\n",
       "        vertical-align: top;\n",
       "    }\n",
       "\n",
       "    .dataframe thead tr th {\n",
       "        text-align: left;\n",
       "    }\n",
       "\n",
       "    .dataframe thead tr:last-of-type th {\n",
       "        text-align: right;\n",
       "    }\n",
       "</style>\n",
       "<table border=\"1\" class=\"dataframe\">\n",
       "  <thead>\n",
       "    <tr>\n",
       "      <th></th>\n",
       "      <th colspan=\"4\" halign=\"left\">email</th>\n",
       "    </tr>\n",
       "    <tr>\n",
       "      <th></th>\n",
       "      <th>count</th>\n",
       "      <th>unique</th>\n",
       "      <th>top</th>\n",
       "      <th>freq</th>\n",
       "    </tr>\n",
       "    <tr>\n",
       "      <th>type</th>\n",
       "      <th></th>\n",
       "      <th></th>\n",
       "      <th></th>\n",
       "      <th></th>\n",
       "    </tr>\n",
       "  </thead>\n",
       "  <tbody>\n",
       "    <tr>\n",
       "      <th>inbox</th>\n",
       "      <td>15</td>\n",
       "      <td>15</td>\n",
       "      <td>Hi there, Tuition for all of our Product Schoo...</td>\n",
       "      <td>1</td>\n",
       "    </tr>\n",
       "    <tr>\n",
       "      <th>spam</th>\n",
       "      <td>18</td>\n",
       "      <td>18</td>\n",
       "      <td>This is my last email of 2018. 2019 is just a ...</td>\n",
       "      <td>1</td>\n",
       "    </tr>\n",
       "  </tbody>\n",
       "</table>\n",
       "</div>"
      ],
      "text/plain": [
       "      email                                                               \n",
       "      count unique                                                top freq\n",
       "type                                                                      \n",
       "inbox    15     15  Hi there, Tuition for all of our Product Schoo...    1\n",
       "spam     18     18  This is my last email of 2018. 2019 is just a ...    1"
      ]
     },
     "execution_count": 23,
     "metadata": {},
     "output_type": "execute_result"
    }
   ],
   "source": [
    "all_email.groupby('type').describe()"
   ]
  },
  {
   "cell_type": "code",
   "execution_count": 24,
   "metadata": {
    "scrolled": false
   },
   "outputs": [
    {
     "data": {
      "text/html": [
       "<div>\n",
       "<style scoped>\n",
       "    .dataframe tbody tr th:only-of-type {\n",
       "        vertical-align: middle;\n",
       "    }\n",
       "\n",
       "    .dataframe tbody tr th {\n",
       "        vertical-align: top;\n",
       "    }\n",
       "\n",
       "    .dataframe thead th {\n",
       "        text-align: right;\n",
       "    }\n",
       "</style>\n",
       "<table border=\"1\" class=\"dataframe\">\n",
       "  <thead>\n",
       "    <tr style=\"text-align: right;\">\n",
       "      <th></th>\n",
       "      <th>type</th>\n",
       "      <th>email</th>\n",
       "      <th>length</th>\n",
       "    </tr>\n",
       "  </thead>\n",
       "  <tbody>\n",
       "    <tr>\n",
       "      <th>0</th>\n",
       "      <td>inbox</td>\n",
       "      <td>As mentioned during our last meetup, we didn't...</td>\n",
       "      <td>182</td>\n",
       "    </tr>\n",
       "    <tr>\n",
       "      <th>1</th>\n",
       "      <td>inbox</td>\n",
       "      <td>&lt;http:www1.cuny.edumucontentfiles201710cuny_l...</td>\n",
       "      <td>6832</td>\n",
       "    </tr>\n",
       "    <tr>\n",
       "      <th>2</th>\n",
       "      <td>inbox</td>\n",
       "      <td>Hi there, We have Product Management, Coding, ...</td>\n",
       "      <td>1551</td>\n",
       "    </tr>\n",
       "    <tr>\n",
       "      <th>3</th>\n",
       "      <td>inbox</td>\n",
       "      <td>\\t\\t\\t\\tHi there,Can a machine distinguish bet...</td>\n",
       "      <td>2260</td>\n",
       "    </tr>\n",
       "    <tr>\n",
       "      <th>4</th>\n",
       "      <td>inbox</td>\n",
       "      <td>Dear Student, Assuming all goes well in the cu...</td>\n",
       "      <td>3555</td>\n",
       "    </tr>\n",
       "  </tbody>\n",
       "</table>\n",
       "</div>"
      ],
      "text/plain": [
       "    type                                              email  length\n",
       "0  inbox  As mentioned during our last meetup, we didn't...     182\n",
       "1  inbox   <http:www1.cuny.edumucontentfiles201710cuny_l...    6832\n",
       "2  inbox  Hi there, We have Product Management, Coding, ...    1551\n",
       "3  inbox  \\t\\t\\t\\tHi there,Can a machine distinguish bet...    2260\n",
       "4  inbox  Dear Student, Assuming all goes well in the cu...    3555"
      ]
     },
     "execution_count": 24,
     "metadata": {},
     "output_type": "execute_result"
    }
   ],
   "source": [
    "all_email['length'] = all_email['email'].map(lambda text: len(text))\n",
    "all_email.head()"
   ]
  },
  {
   "cell_type": "code",
   "execution_count": 25,
   "metadata": {},
   "outputs": [
    {
     "data": {
      "text/plain": [
       "array([<matplotlib.axes._subplots.AxesSubplot object at 0x0000024B9ED31940>,\n",
       "       <matplotlib.axes._subplots.AxesSubplot object at 0x0000024B9EE0AC50>],\n",
       "      dtype=object)"
      ]
     },
     "execution_count": 25,
     "metadata": {},
     "output_type": "execute_result"
    }
   ],
   "source": [
    "all_email.hist(column='length', by='type', bins=50)"
   ]
  },
  {
   "cell_type": "markdown",
   "metadata": {},
   "source": [
    "After getting the sample, I wanted to do some quick analysis such as sample size"
   ]
  },
  {
   "cell_type": "code",
   "execution_count": 26,
   "metadata": {
    "scrolled": true
   },
   "outputs": [
    {
     "data": {
      "image/png": "[encoded data removed]",
      "text/plain": [
       "<Figure size 576x432 with 1 Axes>"
      ]
     },
     "metadata": {},
     "output_type": "display_data"
    }
   ],
   "source": [
    "\n",
    "import matplotlib.pyplot as plt\n",
    "fig = plt.figure(figsize=(8,6))\n",
    "all_email.groupby('type').email.count().plot.bar(ylim=0)\n",
    "plt.show()"
   ]
  },
  {
   "cell_type": "markdown",
   "metadata": {},
   "source": [
    "I used TextBlob,stopwords and isaplha function to clean up the data."
   ]
  },
  {
   "cell_type": "code",
   "execution_count": 27,
   "metadata": {},
   "outputs": [],
   "source": [
    "from textblob import TextBlob\n",
    "def split_into_tokens(message):\n",
    "  # convert bytes into proper unicode\n",
    "    return TextBlob(message).words"
   ]
  },
  {
   "cell_type": "code",
   "execution_count": 28,
   "metadata": {},
   "outputs": [
    {
     "data": {
      "text/plain": [
       "0    [As, mentioned, during, our, last, meetup, we,...\n",
       "1    [http, www1.cuny.edumucontentfiles201710cuny_l...\n",
       "2    [Hi, there, We, have, Product, Management, Cod...\n",
       "3    [Hi, there, Can, a, machine, distinguish, betw...\n",
       "4    [Dear, Student, Assuming, all, goes, well, in,...\n",
       "Name: email, dtype: object"
      ]
     },
     "execution_count": 28,
     "metadata": {},
     "output_type": "execute_result"
    }
   ],
   "source": [
    "all_email.email.head().apply(split_into_tokens)"
   ]
  },
  {
   "cell_type": "code",
   "execution_count": 29,
   "metadata": {},
   "outputs": [],
   "source": [
    "def split_into_lemmas(message):\n",
    "    words = TextBlob(message).words\n",
    "    words = [x for x in words if x not in stopwords.words('english')]\n",
    "    words = [x for x in words if x.isalpha()]\n",
    "    # for each word, take its \"base form\" = lemma \n",
    "    return [word.lemma for word in words]\n"
   ]
  },
  {
   "cell_type": "code",
   "execution_count": 30,
   "metadata": {},
   "outputs": [
    {
     "data": {
      "text/plain": [
       "0    [As, mentioned, last, meetup, session, October...\n",
       "1    [http, The, Thursday, Brief, May, http, The, C...\n",
       "2    [Hi, We, Product, Management, Coding, Data, An...\n",
       "3    [Hi, Can, machine, distinguish, honey, bee, bu...\n",
       "4    [Dear, Student, Assuming, go, well, current, s...\n",
       "Name: email, dtype: object"
      ]
     },
     "execution_count": 30,
     "metadata": {},
     "output_type": "execute_result"
    }
   ],
   "source": [
    "all_email.email.head().apply(split_into_lemmas)"
   ]
  },
  {
   "cell_type": "markdown",
   "metadata": {},
   "source": [
    "Testing the classifier"
   ]
  },
  {
   "cell_type": "code",
   "execution_count": 32,
   "metadata": {
    "scrolled": true
   },
   "outputs": [
    {
     "data": {
      "text/plain": [
       "2279"
      ]
     },
     "execution_count": 32,
     "metadata": {},
     "output_type": "execute_result"
    }
   ],
   "source": [
    "bow_transformer = CountVectorizer(analyzer=split_into_lemmas).fit(all_email['email'])\n",
    "len(bow_transformer.vocabulary_)"
   ]
  },
  {
   "cell_type": "code",
   "execution_count": 90,
   "metadata": {
    "scrolled": true
   },
   "outputs": [
    {
     "name": "stdout",
     "output_type": "stream",
     "text": [
      "Hello All,Our meetup will be starting momentarily. It looks like I'm locked out of our CUNY gotomeeting link, and I don't think I'd be able to coordinate the verification code in time to get started. So, for today we'll be temporarily using my company's account:https:www.gotomeet.meCharleyFerrariSorry for the confusion, and hope to see everyone shortly!\n"
     ]
    }
   ],
   "source": [
    "message20 = all_email['email'][20]\n",
    "print(message20)"
   ]
  },
  {
   "cell_type": "code",
   "execution_count": 91,
   "metadata": {},
   "outputs": [
    {
     "data": {
      "text/plain": [
       "(1, 2279)"
      ]
     },
     "execution_count": 91,
     "metadata": {},
     "output_type": "execute_result"
    }
   ],
   "source": [
    "bow4 = bow_transformer.transform([message20])\n",
    "\n",
    "bow4.shape"
   ]
  },
  {
   "cell_type": "code",
   "execution_count": 92,
   "metadata": {},
   "outputs": [
    {
     "name": "stdout",
     "output_type": "stream",
     "text": [
      "Art\n"
     ]
    }
   ],
   "source": [
    "print(bow_transformer.get_feature_names()[72])"
   ]
  },
  {
   "cell_type": "code",
   "execution_count": 93,
   "metadata": {},
   "outputs": [
    {
     "name": "stdout",
     "output_type": "stream",
     "text": [
      "sparse matrix shape: (33, 2279)\n",
      "number of non-zeros: 4044\n",
      "sparsity: 5.38%\n"
     ]
    }
   ],
   "source": [
    "messages_bow = bow_transformer.transform(all_email['email'])\n",
    "print('sparse matrix shape:', messages_bow.shape)\n",
    "print('number of non-zeros:', messages_bow.nnz)\n",
    "print('sparsity: %.2f%%' % (100.0 * messages_bow.nnz / (messages_bow.shape[0] * messages_bow.shape[1])))\n"
   ]
  },
  {
   "cell_type": "code",
   "execution_count": 99,
   "metadata": {},
   "outputs": [],
   "source": [
    "tfidf_transformer = TfidfTransformer().fit(messages_bow)\n",
    "tfidf4 = tfidf_transformer.transform(bow4)"
   ]
  },
  {
   "cell_type": "code",
   "execution_count": 97,
   "metadata": {},
   "outputs": [
    {
     "name": "stdout",
     "output_type": "stream",
     "text": [
      "(33, 2279)\n"
     ]
    }
   ],
   "source": [
    "messages_tfidf = tfidf_transformer.transform(messages_bow)\n",
    "print(messages_tfidf.shape)"
   ]
  },
  {
   "cell_type": "code",
   "execution_count": 103,
   "metadata": {},
   "outputs": [],
   "source": [
    "spam_detector = MultinomialNB().fit(messages_tfidf, all_email['type'])"
   ]
  },
  {
   "cell_type": "code",
   "execution_count": 101,
   "metadata": {
    "scrolled": false
   },
   "outputs": [
    {
     "name": "stdout",
     "output_type": "stream",
     "text": [
      "(33, 2279)\n"
     ]
    }
   ],
   "source": [
    "messages_tfidf = tfidf_transformer.transform(messages_bow)\n",
    "print(messages_tfidf.shape)"
   ]
  },
  {
   "cell_type": "markdown",
   "metadata": {},
   "source": [
    "Predict email using the sample email abov"
   ]
  },
  {
   "cell_type": "code",
   "execution_count": 105,
   "metadata": {},
   "outputs": [
    {
     "name": "stdout",
     "output_type": "stream",
     "text": [
      "predicted:  spam\n",
      "expected:  spam\n"
     ]
    }
   ],
   "source": [
    "print('predicted: ' , spam_detector.predict(tfidf4)[0])\n",
    "print('expected: ', all_email.type[20])"
   ]
  },
  {
   "cell_type": "markdown",
   "metadata": {},
   "source": [
    "Predict all emails"
   ]
  },
  {
   "cell_type": "code",
   "execution_count": 106,
   "metadata": {},
   "outputs": [
    {
     "name": "stdout",
     "output_type": "stream",
     "text": [
      "['inbox' 'inbox' 'inbox' 'inbox' 'inbox' 'inbox' 'inbox' 'inbox' 'inbox'\n",
      " 'inbox' 'inbox' 'inbox' 'inbox' 'inbox' 'spam' 'spam' 'spam' 'spam'\n",
      " 'spam' 'spam' 'spam' 'spam' 'spam' 'spam' 'spam' 'spam' 'spam' 'spam'\n",
      " 'spam' 'spam' 'spam' 'spam' 'spam']\n"
     ]
    }
   ],
   "source": [
    "all_predictions = spam_detector.predict(messages_tfidf)\n",
    "print(all_predictions)"
   ]
  },
  {
   "cell_type": "markdown",
   "metadata": {},
   "source": [
    "Since we didn't re order out emails, it gives the correct predictions as to which ones are spam and which ones are not."
   ]
  },
  {
   "cell_type": "code",
   "execution_count": 107,
   "metadata": {},
   "outputs": [
    {
     "name": "stdout",
     "output_type": "stream",
     "text": [
      "accuracy 0.9696969696969697\n",
      "confusion matrix\n",
      " [[14  1]\n",
      " [ 0 18]]\n",
      "(row=expected, col=predicted)\n"
     ]
    }
   ],
   "source": [
    "print('accuracy', accuracy_score(all_email['type'], all_predictions))\n",
    "print('confusion matrix\\n', confusion_matrix(all_email['type'], all_predictions))\n",
    "print('(row=expected, col=predicted)')"
   ]
  },
  {
   "cell_type": "code",
   "execution_count": 108,
   "metadata": {},
   "outputs": [
    {
     "data": {
      "text/plain": [
       "Text(0.5,0,'predicted label')"
      ]
     },
     "execution_count": 108,
     "metadata": {},
     "output_type": "execute_result"
    },
    {
     "data": {
      "image/png": "[encoded data removed]",
      "text/plain": [
       "<Figure size 288x288 with 2 Axes>"
      ]
     },
     "metadata": {},
     "output_type": "display_data"
    }
   ],
   "source": [
    "%matplotlib inline\n",
    "import matplotlib.pyplot as plt\n",
    "\n",
    "plt.matshow(confusion_matrix(all_email['type'], all_predictions), cmap=plt.cm.binary, interpolation='nearest')\n",
    "plt.title('confusion matrix')\n",
    "plt.colorbar()\n",
    "plt.ylabel('expected label')\n",
    "plt.xlabel('predicted label')"
   ]
  },
  {
   "cell_type": "code",
   "execution_count": 109,
   "metadata": {},
   "outputs": [
    {
     "name": "stdout",
     "output_type": "stream",
     "text": [
      "             precision    recall  f1-score   support\n",
      "\n",
      "      inbox       1.00      0.93      0.97        15\n",
      "       spam       0.95      1.00      0.97        18\n",
      "\n",
      "avg / total       0.97      0.97      0.97        33\n",
      "\n"
     ]
    }
   ],
   "source": [
    "print(classification_report(all_email['type'], all_predictions))"
   ]
  },
  {
   "cell_type": "markdown",
   "metadata": {},
   "source": [
    "Word Cloud Visuals -- Inbox wrods"
   ]
  },
  {
   "cell_type": "code",
   "execution_count": 122,
   "metadata": {},
   "outputs": [],
   "source": [
    "all_email2 = pd.DataFrame(all_email).reset_index(drop=True)\n",
    "all_email2['email'] = all_email2['email'].str.lower().str.split()\n",
    "all_email2['email'] = all_email2['email'].apply(lambda x: [item for item in x if item.isalpha()])\n",
    "#stopwords\n",
    "all_email2['email'] = all_email2['email'].apply(lambda x: [item for item in x if item not in stopwords.words('english')])\n",
    "\n",
    "for i in range(len(all_email2[all_email2['type']=='inbox']['email'])):\n",
    "    inbox_words = ' '.join(list(all_email2[all_email2['type']=='inbox']['email'][i]))    "
   ]
  },
  {
   "cell_type": "code",
   "execution_count": 123,
   "metadata": {},
   "outputs": [
    {
     "data": {
      "image/png": "[encoded data removed]",
      "text/plain": [
       "<Figure size 720x720 with 1 Axes>"
      ]
     },
     "metadata": {},
     "output_type": "display_data"
    }
   ],
   "source": [
    "\n",
    "inbox_word_cloud = WordCloud().generate(inbox_words)\n",
    "plt.figure(figsize = (10,10), facecolor = 'w')\n",
    "plt.imshow(inbox_word_cloud)\n",
    "plt.axis('off')\n",
    "plt.tight_layout(pad = 1)\n",
    "plt.show()"
   ]
  },
  {
   "cell_type": "markdown",
   "metadata": {},
   "source": [
    "Next steps is to improve the application by adding different types of spam. Since I used my school email, the spams in my spam folders were still relavent to cuny and the data science program. After further improvements, it can be used to build a social network for who is sending spam and who is not. This similar project can be used to specify not just spam or not spam emails, but classifying differnt subjects or requests."
   ]
  }
 ],
 "metadata": {
  "kernelspec": {
   "display_name": "Python 3",
   "language": "python",
   "name": "python3"
  },
  "language_info": {
   "codemirror_mode": {
    "name": "ipython",
    "version": 3
   },
   "file_extension": ".py",
   "mimetype": "text/x-python",
   "name": "python",
   "nbconvert_exporter": "python",
   "pygments_lexer": "ipython3",
   "version": "3.6.5"
  }
 },
 "nbformat": 4,
 "nbformat_minor": 2
}
