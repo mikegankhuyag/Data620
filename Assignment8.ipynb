{
 "cells": [
  {
   "cell_type": "markdown",
   "metadata": {},
   "source": [
    "# CUNY DATA 620\n",
    "Michael Gankhuyag"
   ]
  },
  {
   "cell_type": "markdown",
   "metadata": {},
   "source": [
    "# Assignment 8\n",
    "Perform an analysis of high frequency words in a corpus of interest.\n",
    "\n",
    "Complete the following tasks:\n",
    "\n",
    "Choose a corpus of interest.\n",
    "How many total unique words are in the corpus? (Please feel free to define unique words in any interesting, defensible way).\n",
    "Taking the most common words, how many unique words represent half of the total words in the corpus?\n",
    "Identify the 200 highest frequency words in this corpus.\n",
    "Create a graph that shows the relative frequency of these 200 words.\n",
    "Does the observed relative frequency of these words follow Zipf’s law? Explain.\n",
    "In what ways do you think the frequency of the words in this corpus differ from “all words in all corpora.”"
   ]
  },
  {
   "cell_type": "code",
   "execution_count": 75,
   "metadata": {},
   "outputs": [],
   "source": [
    "#Import Packages\n",
    "from urllib import request\n",
    "import pandas as pd\n",
    "import matplotlib.pyplot as plt\n",
    "import numpy as np\n",
    "import collections"
   ]
  },
  {
   "cell_type": "markdown",
   "metadata": {},
   "source": [
    "For my corpus of interest I picked an LLC Agreement from the State of California. This is particularly of interest to me because I have goals to start my own business and live in California. I will find the most common words in this document to know what I should expect in the future."
   ]
  },
  {
   "cell_type": "code",
   "execution_count": 16,
   "metadata": {},
   "outputs": [],
   "source": [
    "import sys\n",
    "sys.path.append(r'C:\\Users\\User\\Desktop\\MSDS\\DATA620')"
   ]
  },
  {
   "cell_type": "code",
   "execution_count": 34,
   "metadata": {},
   "outputs": [],
   "source": [
    "#Read the LLC Agreement\n",
    "f = open('california-llc-operating-agreement-template.txt')\n",
    "raw = f.read()"
   ]
  },
  {
   "cell_type": "code",
   "execution_count": 48,
   "metadata": {},
   "outputs": [
    {
     "data": {
      "text/plain": [
       "\"LIMITED LIABILITY COMPANY OPERATING AGREEMENT\\nOF\\n_______________________, LLC\\n\\nPursuant to § 17701.10\\n\\nFORMED IN THE STATE OF CALIFORNIA\\t\\n\\nThis Agreement, entered into on ______________, 20____, is a \\n\\n(Check One)\\n\\n? - SINGLE-MEMBER LLC OPERATING AGREEMENT, entered into by and between _________________, LLC, a ___________________________ (State) LLC (the “Company”) and ______________________________ of _________________________(Address), hereinafter known as the “Member”\\n\\n? - MULTI-MEMBER LLC OPERATING AGREEMENT, entered into by and between _____________________________, of ____________________________ (Address),\\n_____________________________, of_____________________________ (Address),\\n_____________________________, of _____________________________(Address), hereinafter known as the “Members”\\n\\n\\tWHEREAS the Member(s) desire to create a limited liability company under the laws of the State of California and set forth the terms herein of the Company’s operation and the relationship between Member(s).\\n\\n\\tNOW, THEREFORE, in consideration of the mutual covenants set forth herein and other valuable consideration, the receipt and sufficiency of which hereby are acknowledged, the Member(s) and the Company agree as follows:\\n\\n\\n1. Name and Principal Place of Business\\n\\nThe name of the Company shall be _________________________, LLC.  The principal place of business of the Company shall be at _______________________________________, City of ____________________, in the State of California or at such other place of business as the Member(s) shall determine.  \\n\\n2. Formation \\n\\nThe Company was formed on _______________________, 20_____, when the Member(s) filed the Articles of Organization with the office of the Secretary of State of the State of California pursuant to the statutes governing limited liability companies in the State of California (the “Statutes”).\\n\\n3. Purpose\\n\\nThe purpose of the Company is to engage in and conduct any and all lawful businesses, activities or functions, and to carry on any other lawful activities in connection with or incidental to the foregoing, as the Member(s) in their discretion shall determine.\\n\\n4. Term\\n\\nThe term of the Company shall be perpetual, commencing on the filing of the Articles of Organization of the Company, and continuing until terminated under the provisions set forth herein. \\n\\n5. Member Capital Contributions (Check One)\\n\\n? - Single Member LLC: The Member may make such capital contributions (each a “Capital Contribution”) in such amounts and at such times as the Member shall determine.  The Member shall not be obligated to make any Capital Contributions.  The Member may take distributions of the capital from time to time in accordance with the limitations imposed by the Statutes.\\n\\n? - Multi-Member LLC: Each Member has contributed the following capital amounts to the Company as set forth below and are not obligated to make any additional capital contributions:\\n\\n________________________________\\t\\t\\t$__________________________\\n\\n________________________________\\t\\t\\t$__________________________\\n\\n________________________________\\t\\t\\t$__________________________\\n\\nMembers shall have no right to withdraw or reduce their contributions to the capital of the Company until the Company has been terminated unless otherwise set forth herein.  Members shall have no right to demand and receive any distribution from the Company in any form other than cash and members shall not be entitled to interest on their capital contributions to the Company.  \\n\\nThe liability of any Member for the losses, debts, liabilities and obligations of the Company shall be limited to the amount of the capital contribution of each Member plus any distributions paid to such Member, such Member’s share of any undistributed assets of the Company; and (only to the extent as might be required by applicable law) any amounts previously distributed to such Member by the Company.\\n\\n6. Distributions \\n\\nFor purposes of this Agreement “net profits” and “net losses” mean the profits or losses of the Company resulting from the conduct of the Company’s business, after all expenses, including depreciation allowance, incurred in connection with the conduct of its business for which such expenses have been accounted.\\n\\nThe term “cash receipts” shall mean all cash receipts of the Company from whatever source derived, including without limitation capital contributions made by the Member(s); the proceeds of any sale, exchange, condemnation or other disposition of all or any part of the assets of the Company; the proceeds of any loan to the Company; the proceeds of any mortgage or refinancing of any mortgage on all or any part of the assets of the Company; the proceeds of any insurance policy for fire or other casualty damage payable to the Company; and the proceeds from the liquidation of assets of the Company following termination.\\n\\nThe term “capital transactions” shall mean any of the following: the sale of all or any part of the assets of the Company; the refinancing of mortgages or other liabilities of the Company; the receipt of insurance proceeds; and any other receipts or proceeds are attributable to capital.\\n\\n(Check One)\\n\\n?  - SINGLE-MEMBER: A “Capital Account” for the Member shall be maintained by the Company. The Member's Capital Account shall reflect the Member’s capital contributions and increases for any net income or gain of the Company. The Member’s Capital Account shall also reflect decreases for distributions made to the Member and the Member’s share of any losses and deductions of the Company.\\n\\n?  - MULTI-MEMBER: The “Capital Account” for each Member shall mean the account created and maintained for the Member in accordance with Section 704(b) of the Internal Revenue Code and Treasury Regulation Section 1.704-1(b)(2)(iv).  \\n\\nThe term “Members’ Percentage Interests” shall mean the percentages set forth opposite the name of each Member Below:\\n\\nMember\\t\\t\\t\\t\\t                     Percentage Interest\\n\\n_____________________________\\t\\t\\t_____________%\\n_____________________________\\t\\t\\t_____________%\\n_____________________________\\t\\t\\t_____________%\\n\\nDuring each fiscal year, the net profits and net losses of the Company (other than from capital transactions), and each item of income, gain, loss, deduction or credit entering into the computation thereof, shall be credited or charged, as the case may be, to the capital accounts of each Member in proportion to the Members’ Percentage Interests.  The net profits of the Company from capital transactions shall be allocated in the following order of priority: (a) to offset any negative balance in the capital accounts of the Members in proportion to the amounts of the negative balance in their respective capital accounts, until all negative balances in the capital accounts have been eliminated; then (b) to the Members in proportion to the Members’ Percentage Interests.  The net losses of the Company from capital transactions shall be allocated in the following order of priority: (a) to the extent that the balance in the capital accounts of any Members are in excess of their original contributions, to such Members in proportion to the excess balances until all such excess balances have been reduced to zero; then (b) to the Members in proportion to the Members’ Percentage Interests.\\n\\nThe cash receipts of the Company shall be applied in the following order of priority: (a) to the payment of interest or amortization on any mortgages on the assets of the Company, amounts due on debts and liabilities of the Company other than those due to any Member, costs of the construction of the improvements to the assets of the Company and operating expenses of the Company; (b) to the payment of interest and establishment of cash reserves determined by the Members to be necessary or appropriate, including without limitation, reserves for the operation of the Company’s business, construction, repairs, replacements, taxes and contingencies; and (d) to the repayment of any loans made to the Company by any Member.  Thereafter, the cash receipts of the Company shall be distributed among the Members as hereafter provided.\\n\\nExcept as otherwise provided in this Agreement or otherwise required by law, distributions of cash receipts of the Company, other than from capital transactions, shall be allocated among the Members in proportion to the Members’ Percentage Interests.\\n\\nExcept as otherwise provided in this Agreement or otherwise required by law, distributions of cash receipts from capital transactions shall be allocated in the following order or priority: (a) to the Members in proportion to their respective capital accounts until each Member has received cash distributions equal to any positive balance in their capital account; then (b) to the Members in proportion to the Members’ Percentage Interests.\\n\\nIt is the intention of the Members that the allocations under this Agreement shall be deemed to have “substantial economic effect” within the meaning of Section 704 of the Internal Revenue Code and Treas. Reg. Section 1.704-1. Should the provisions of this Agreement be inconsistent with or in conflict with Section 704 of the Code or the Regulations thereunder, then Section 704 of the Code and the Regulations shall be deemed to override the contrary provisions thereof.  If Section 704 or the Regulations at any time require that limited liability company operating agreements contain provisions which are not expressly set forth herein, such provisions shall be incorporated into this Agreement by reference and shall be deemed a part of this Agreement to the same extent as though they had been expressly set forth herein. \\n\\n7. Books, Records and Tax Returns\\n\\n(Check One)\\n\\n? - SINGLE-MEMBER:  The Company shall maintain complete and accurate books and records of the Company's business and affairs as required by the Statutes and such books and records shall be kept at the Company's Registered Office and shall in all respects be independent of the books, records and transactions of the Member.\\n\\nThe Company's fiscal year shall be the calendar year with an ending month of December.\\nThe Member intends that the Company, as a single member LLC, shall be taxed as a sole proprietorship in accordance with the provisions of the Internal Revenue Code.   Any provisions herein that may cause may cause the Company not to be taxed as a sole proprietorship shall be inoperative. \\n\\n\\n? - MULTI-MEMBER: The Members, or their designees, shall maintain complete and accurate records and books of the Company’s transactions in accordance with generally accepted accounting principles.\\n\\nThe Company shall furnish each Member, within seventy-five days after the end of each fiscal year, an annual report of the Company including a balance sheet, a profit and loss statement a capital account statement; and the amount of such Member’s share of the Company’s income, gain, losses, deductions and other relevant items for federal income tax purposes.\\n\\nThe Company shall prepare all Federal, State and local income tax and information returns for the Company, and shall cause such tax and information returns to be timely filed.  Within seventy-five days after the end of each fiscal year, the Company shall forward to each person who was a Member during the preceding fiscal year a true copy of the Company’s information return filed with the Internal Revenue Service for the preceding fiscal year.\\n\\nAll elections required or permitted to be made by the Company under the Internal Revenue Code, and the designation of a tax matters partner pursuant to Section 6231(a)(7) of the Internal Revenue Code for all purposes permitted or required by the Code, shall be made by the Company by the affirmative vote or consent of Members holding a majority of the Members’ Percentage Interests.  \\n\\nUpon request, the Company shall furnish to each Member, a current list of the names and addresses of all of the Members of the Company, and any other persons or entities having any financial interest in the Company.\\n\\n8. Bank Accounts\\n\\nAll funds of the Company shall be deposited in the Company’s name in a bank account or accounts as chosen by the Member(s).  Withdrawals from any bank accounts shall be made only in the regular course of business of the Company and shall be made upon such signature or signatures as the Members from time to time may designate.\\n\\n9. Management of the Company\\n\\nThe business and affairs of the Company shall be conducted and managed by the Member(s) in accordance with this Agreement and the laws of the State of California.\\n\\n(Check One)\\n\\n? - SINGLE-MEMBER: __________________, as sole member of the Company, has sole authority and power to act for or on behalf of the Company, to do any act that would be binding on the Company, or incur any expenditures on behalf of the Company. The Member shall not be liable for the debts, obligations or liabilities of the Company, including under a judgment, decree or order of a court. The Company is organized as a “member-managed” limited liability company.  The Member is designated as the initial managing member.  \\n\\n? - MULTI-MEMBER: Except as expressly provided elsewhere in this Agreement, all decisions respecting the management, operation and control of the business and affairs of the Company and all determinations made in accordance with this Agreement shall be made by the affirmative vote or consent of Members holding a majority of the Members’ Percentage Interests.\\n\\nNotwithstanding any other provision of this Agreement, the Members shall not, without the prior written consent of the unanimous vote or consent of the Members, sell, exchange, lease, assign or otherwise transfer all or substantially all of the assets of the Company; sell, exchange, lease (other than space leases in the ordinary course of business), assign or transfer the Company’s assets; mortgage, pledge or encumber the Company’s assets other than is expressly authorized by this Agreement; prepay, refinance, modify, extend or consolidate any existing mortgages or encumbrances; borrow money on behalf of the Company in the excess of $___________________.00; lend any Company funds or other assets to any person in an amount or with a value in excess of $___________________.00; establish any reserves for working capital repairs, replacements, improvements or any other purpose, in excess of an aggregate of $___________________.00; confess a judgment against the Company; settle, compromise or release, discharge or pay any claim, demand or debt in excess of $___________________.00, including claims for insurance; approve a merger or consolidation of the Company with or into any other limited liability company, corporation, partnership or other entity; or change the nature or character of the business of the Company.\\n\\nThe members shall receive such sums for compensation as Members of the Company as may be determined from time to time by the affirmative vote or consent of Members holding a majority of the Members’ Percentage Interests. \\n\\n(Check if Applicable)\\n\\n? - MULTI-MEMBER: Meetings of Members\\n\\nThe annual meeting of the Members shall be held on _____________________________ (day/month) at the principal office of the Company or at such other time and place as the Members determine, for the purpose of transacting such business as may lawfully come before the meeting.  If the day fixed for the annual meeting shall be a legal holiday, such meeting shall be held on the next succeeding business day.\\n\\nThe Members may by resolution prescribe the time and place for the holding of regular meetings and may provide that the adoption of such resolution shall constitute notice of such regular meetings.\\n\\nSpecial meetings of the Members, for any purpose or purposes, may be called by any ___ Members (or such other number of Members as the Members from time to time may specify).\\n\\nWritten or electronic notice stating the place, day and hour of the meeting and, in the case of a special meeting, the purpose for which the meeting is called, shall be delivered not less than three days before the date of the meeting, either personally or by mail, to each Member of record entitled to vote at such meeting.  When all the Members of the Company are present at any meeting, or if those not present sign a written waiver of notice of such meeting, or subsequently ratify all the proceedings thereof, the transactions of such meeting shall be valid as if a meeting had been formally called and notice had been given.\\n\\nAt any meeting of the Members, the presence of Members holding a majority of the Members’ Percentage Interests, as determined from the books of the Company, represented in person or by proxy, shall constitute a quorum for the conduct of the general business of the Company.  However, if any particular action by the Company shall require the vote or consent of some other number or percentage of Members pursuant to this Agreement, a quorum for the purpose of taking such action shall require such other number or percentage of Members.  If a quorum is not present, the meeting may be adjourned from time to time without further notice, and if a quorum is present at the adjourned meeting any business may be transacted which might have been transacted at the meeting as originally notified.  The Members present at a duly organized meeting may continue to transact business until adjournment, notwithstanding the withdrawal of enough Members to leave less a quorum.  \\n\\nAt all meetings of the Members, a Member may vote by proxy executed in writing by the Member or by a duly authorized attorney-in-fact of the Member.  Such proxy shall be filed with the Company before or at the time of the meeting.  \\n\\nA Member of the Company who is present at a meeting of the Members at which action on any matter is taken shall be presumed to have assented to the action taken, unless the dissent of such Member shall be entered in the minutes of the meeting or unless such Member shall file a written dissent to such action with the person acting as the secretary of the meeting before the meeting’s adjournment.  Such right to dissent shall not apply to a Member who voted in favor of such action.\\n\\nUnless otherwise provided by law, any action required to be taken at a meeting of the Members, or any other action which may be taken at a meeting of the Members, may be taken without a meeting if a consent in writing, setting forth the action so taken, shall be signed by all of the Members entitled to vote with respect to the subject.\\n\\nMembers of the Company may participate in any meeting of the Members by means of conference telephone or similar communication if all persons participating in such meeting can hear one another for the entire discussion of the matters to be vote upon.  Participation in a meeting pursuant to this paragraph shall constitute presence in person at such meeting.\\n\\n(Check if Applicable)\\n\\n? - MULTI-MEMBER: Assignment of Interests\\n\\nExcept as otherwise provided in this Agreement, no Member or other person holding any interest in the Company may assign, pledge, hypothecate, transfer or otherwise dispose of all or any part of their interest in the Company, including without limitation, the capital, profits or distributions of the Company without the prior written consent of the other Members in each instance.\\n\\nThe Members agree that no Member may voluntarily withdraw from the Company without the unanimous vote or consent of the Members.\\n\\nA Member may assign all or any part of such Member’s interest in the allocations and distributions of the Company to any of the following (collectively the “permitted assignees”): any person, corporation, partnership or other entity as to which the Company has given consent to the assignment of such interest in the allocations and distributions of the Company by the affirmative vote or consent of Members holding a majority of the Members’ Percentage Interests.  An assignment to a permitted assignee shall only entitle the permitted assignee to the allocations and distributions to which the assigned interest is entitled, unless such permitted assignee applies for admission to the Company and is admitted to the Company as a Member in accordance with this Agreement.\\n\\nAn assignment, pledge, hypothecation, transfer or other disposition of all or any part of the interest of a Member in the Company or other person holding any interest in the Company in violation of the provisions hereof shall be null and void for all purposes.\\n\\nNo assignment, transfer or other disposition of all or any part of the interest of any Member permitted under this Agreement shall be binding upon the Company unless and until a duly executed and acknowledged counterpart of such assignment or instrument of transfer, in form and substance satisfactory to the Company, has been delivered to the Company.\\n\\nNo assignment or other disposition of any interest of any Member may be made if such assignment or disposition, alone or when combine with other transactions, would result in the termination of the Company within the meaning of Section 708 of the Internal Revenue Code or under any other relevant section of the Code or any successor statute.  No assignment or other disposition of any interest of any Member may be made without an opinion of counsel satisfactory to the Company that such assignment or disposition is subject to an effective registration under, or exempt from the registration requirements of, the applicable Federal and State securities laws.  No interest in the Company may be assigned or given to any person below the age of 21 years or to a person who has been adjudged to be insane or incompetent.\\n\\nAnything herein contained to the contrary, the Company shall be entitled to treat the record holder of the interest of a Member as the absolute owner thereof, and shall incur no liability by reason of distributions made in good faith to such record holder, unless and until there has been delivered to the Company the assignment or other instrument of transfer and such other evidence as may be reasonably required by the Company to establish to the satisfaction of the Company that an interest has been assigned or transferred in accordance with this Agreement.\\n\\n(Check One)\\n\\n? - SINGLE-MEMBER:\\tOwnership of Company Property.   \\n\\nThe Company’s assets shall be deemed owned by the Company as an entity, and the Member shall have no ownership interest in such assets or any portion thereof.  Title to any or all such Company assets may be held in the name of the Company, one or more nominees or in “street name”, as the Member may determine.\\n\\nExcept as limited by the Statutes, the Member may engage in other business ventures of any nature, including, without limitation by specification, the ownership of another business similar to that operated by the Company. The Company shall not have any right or interest in any such independent ventures or to the income and profits derived therefrom.\\n\\n? - MULTI-MEMBER:\\tRight of First Refusal\\n\\nIf a Member desires to sell, transfer or otherwise dispose of all or any part of their interest in the Company, such Member (the “Selling Member”) shall first offer to sell and convey such interest to the other Members before selling, transferring or otherwise disposing of such interest to any other person, corporation or other entity.  Such offer shall be in writing, shall be given to every other Member, and shall set forth the interest to be sold, the purchase price to be paid, the date on which the closing is to take place (which date shall be not less than thirty nor more than sixty days after the delivery of the offer), the location at which the closing is to take place, and all other material terms and conditions of the sale, transfer or other disposition.\\n\\nWithin fifteen days after the delivery of said offer the other Members shall deliver to the Selling Member a written notice either accepting or rejecting the offer.  Failure to deliver said notice within said fifteen days conclusively shall be deemed a rejection of the offer.  Any or all of the other Members may elect to accept the offer, and if more than one of the other Members elects to accept the offer, the interest being sold and the purchase price therefore shall be allocated among the Members so accepting the offer in proportion to their Members’ Percentage Interests, unless they otherwise agree in writing.\\n\\nIf any or all of the other Members elect to accept the offer, then the closing of title shall be held in accordance with the offer and the Selling Member shall deliver to the other Members who have accepted the offer an assignment of the interest being sold by the Selling Member, and said other Members shall pay the purchase price prescribed in the offer.\\n\\nIf no other Member accepts the offer, or if the Members who have accepted such offer default in their obligations to purchase the interest, then the Selling Member within 120 days after the delivery of the offer may sell such interest to any other person or entity at a purchase price which is not less than the purchase price prescribed in the offer and upon the terms and conditions which are substantially the same as the terms and conditions set forth in the offer, provided all other applicable requirements of this Agreement are complied with.  An assignment of such interest to a person or entity who is not a Member of the Company shall only entitle such person or entity to the allocations and distributions to which the assigned interest is entitled, unless such person or entity applies for admission to the Company and is admitted to the Company as a Member in accordance with this Agreement.\\n\\nIf the Selling Member does not sell such interest within said 120 days, then the Selling Member may not thereafter sell such interest without again offering such interest to the other Members in accordance with this Agreement.\\n\\n(Check if Applicable)\\n\\n? - MULTI-MEMBER: Admission of New Members\\n\\nThe Company may admit new Members (or transferees of any interests of existing Members) into the Company by the unanimous vote or consent of the Members.\\n\\nAs a condition to the admission of a new Member, such Member shall execute and acknowledge such instruments, in form and substance satisfactory to the Company, as the Company may deem necessary or desirable to effectuate such admission and to confirm the agreement of such Member to be bound by all of the terms, covenants and conditions of this Agreement, as the same may have been amended.  Such new Member shall pay all reasonable expenses in connection with such admission, including without limitation, reasonable attorneys’ fees and the cost of the preparation, filing or publication of any amendment to this Agreement or the Articles of Organization, which the Company may deem necessary or desirable in connection with such admission.\\n\\nNo new Member shall be entitled to any retroactive allocation of income, losses, or expense deductions of the Company.  The Company may make pro rata allocations of income, losses or expense deductions to a new Member for that portion of the tax year in which the Member was admitted in accordance with Section 706(d) of the Internal Revenue Code and regulations thereunder.\\n\\nIn no event shall a new Member be admitted to the Company if such admission would be in violation of applicable Federal or State securities laws or would adversely affect the treatment of the Company as a partnership for income tax purposes.\\n\\n(Check if Applicable)\\n\\n? - MULTI-MEMBER: Withdrawal Events\\t\\n\\nIn the event of the death, retirement, withdrawal, expulsion, or dissolution of a Member, or an event of bankruptcy or insolvency, as hereinafter defined, with respect to a Member, or the occurrence of any other event which terminates the continued membership of a Member in the Company pursuant to the Statutes (each of the foregoing being hereinafter referred to as a “Withdrawal Event”), the Company shall terminate sixty days after notice to the Members of such withdrawal Event unless the business of the Company is continued as hereinafter provided.\\n\\nNotwithstanding a Withdrawal Event with respect to a Member, the Company shall not terminate, irrespective of applicable law, if within aforesaid sixty day period the remaining Members, by the unanimous vote or consent of the Members (other than the Member who caused the Withdrawal Event), shall elect to continue the business of the Company.\\n\\nIn the event of a Withdrawal Event with respect to an Member, any successor in interest to such Member (including without limitation any executor, administrator, heir, committee, guardian, or other representative or successor) shall not become entitled to any rights or interests of such Member in the Company, other than the allocations and distributions to which such Member is entitled, unless such successor in interest is admitted as a Member in accordance with this Agreement.\\n\\nAn “event of bankruptcy or insolvency” with respect to a Member shall occur if such Member: (1) applies for or consents to the appointment of a receiver, trustee or liquidator of all or a substantial part of their assets; or (2) makes a general assignment for the benefit of creditors; or (3) is adjudicated a bankrupt or an insolvent; or (4) files a voluntary petition in bankruptcy or a petition or an answer seeking an arrangement with creditors or to take advantage of any bankruptcy, insolvency, readjustment of debt or similar law or statute, or an answer admitting the material allegations of a petition filed against them in any bankruptcy, insolvency, readjustment of debt or similar proceedings; or (5) takes any action for the purpose of effecting any of the foregoing; or (6) an order, judgment or decree shall be entered, with or without the application, approval or consent of such Member, by any court of competent jurisdiction, approving a petition for or appointing a receiver or trustee of all or a substantial part of the assets of such Member, and such order, judgment or decree shall be entered, with or without the application, approval or consent of such Member, by any court of competent jurisdiction, approving a petition for or appointing a receiver or trustee of all or a substantial part of the assets of such Member, and such order, judgment or decree shall continue unstayed and in effect for thirty days.\\n\\n10. Dissolution and Liquidation\\n\\n\\t\\n(Check One)\\n\\n? - SINGLE-MEMBER: The Company shall dissolve and its affairs shall be wound up on the first to occur of (i) At a time, or upon the occurrence of an event specified in the Articles of Organization or this Agreement. (ii) The determination by the Member that the Company shall be dissolved.\\nUpon the death of the Member, the Company shall be dissolved.  By separate written documentation, the Member shall designate and appoint the individual who will wind down the Company’s business and transfer or distribute the Member's Interests and Capital Account as designated by the Member or as may otherwise be required by law. \\n\\nUpon the disability of a Member, the Member may continue to act as Manager hereunder or appoint a person to so serve until the Member's Interests and Capital Account of the Member have been transferred or distributed.\\n\\n? - MULTI-MEMBER: The Company shall terminate upon the occurrence of any of the following : (i) the election by the Members to dissolve the Company made by the unanimous vote or consent of the Members; (ii) the occurrence of a Withdrawal Event with respect to a Member and the failure of the remaining Members to elect to continue the business of the Company as provided for in this Agreement above; or (iii) any other event which pursuant to this Agreement, as the same may hereafter be amended, shall cause a termination of the Company.\\nThe liquidation of the Company shall be conducted and supervised by a person designated for such purposes by the affirmative vote or consent of Members holding a majority of the Members’ Percentage Interests (the “Liquidating Agent”).  The Liquidating Agent hereby is authorized and empowered to execute any and all documents and to take any and all actions necessary or desirable to effectuate the dissolution and liquidation of the Company in accordance with this Agreement.\\n\\nPromptly after the termination of the Company, the Liquidating Agent shall cause to be prepared and furnished to the Members a statement setting forth the assets and liabilities of the Company as of the date of termination.  The Liquidating Agent, to the extent practicable, shall liquidate the assets of the Company as promptly as possible, but in an orderly and businesslike manner so as not to involve undue sacrifice.\\n\\nThe proceeds of sale and all other assets of the Company shall be applied and distributed in the following order of priority: (1) to the payment of the expenses of liquidation and the debts and liabilities of the Company, other than debts and liabilities to Members; (2) to the payment of debts and liabilities to Members; (3) to the setting up of any reserves which the Liquidating Agent may deem necessary or desirable for any contingent or unforeseen liabilities or obligations of the Company, which reserves shall be paid over to licensed attorney to hold in escrow for a period of two years for the purpose of payment of any liabilities and obligations, at the expiration of which period the balance of such reserves shall be distributed as provided; (4) to the Members in proportion to their respective capital accounts until each Member has received cash distributions equal to any positive balance in their capital account, in accordance with the rules and requirements of Treas. Reg. Section 1.704-1(b)(2)(ii)(b); and (5) to the Members in proportion to the Members’ Percentage Interests.\\n\\nThe liquidation shall be complete within the period required by Treas. Reg. Section 1.704-1(b)(2)(ii)(b).\\n\\nUpon compliance with the distribution plan, the Members shall no longer be Members, and the Company shall execute, acknowledge and cause to be filed any documents or instruments as may be necessary or appropriate to evidence the dissolution and termination of the Company pursuant to the Statutes.\\n\\n11. Representations of Members\\n\\n(Check if Applicable)\\n\\n? - MULTI-MEMBER: Each of the Members represents, warrants and agrees that the Member is acquiring the interest in the Company for the Member’s own account for investment purposes only and not with a view to the sale or distribution thereof; the Member, if an individual, is over the age of 21; if the Member is an organization, such organization is duly organized, validly existing and in good standing under the laws of its State of organization and that it has full power and authority to execute this Agreement and perform its obligations hereunder; the execution and performance of this Agreement by the Member does not conflict with, and will not result in any breach of, any law or any order, writ, injunction or decree of any court or governmental authority against or which binds the Member, or of any agreement or instrument to which the Member is a party; and the Member shall not dispose of such interest or any part thereof in any manner which would constitute a violation of the Securities Act of 1933, the Rules and Regulations of the Securities and Exchange Commission, or any applicable laws, rules or regulations of any State or other governmental authorities, as the same may be amended.\\n\\n12. Certificates Evidencing Membership\\n\\n(Check if Applicable)\\n\\n? - MULTI-MEMBER: Every membership interest in the Company shall be evidenced by a Certificate of Membership issued by the Company.  Each Certificate of Membership shall set forth the name of the Member holding the membership interest and the Member’s Percentage Interest held by the Member, and shall bear the following legend:\\n\\n“The membership interest represented by this certificate is subject to, and may not be transferred except in accordance with, the provisions of the Operating Agreement of ______________________, LLC, dated effective as of _________________________, 20______, as the same from time to time may be amended, a copy of which is on file at the principal office of the Company.”\\n\\t\\n13.  Notices\\n\\n(Check if Applicable)\\n\\n? - MULTI-MEMBER: All notices, demands, requests or other communications which any of the parties to this Agreement may desire or be required to give hereunder shall be in writing and shall be deemed to have been properly given if sent by courier or by registered or certified mail, return receipt requested, with postage prepaid, addressed as follows: (a) if to the Company, at the principal place of business of the Company designated by the Company; and (b) if to any Member, to the address of said Member first above written, or to such other address as may be designated by said Member by notice to the Company and the other Members pursuant to this Article 13.\\n\\n14. Arbitration\\n\\n(Check if Applicable)\\n\\n? - MULTI-MEMBER: Any dispute, controversy or claim arising out of or in connection with this Agreement or any breach or alleged breach hereof shall, upon the request of any party involved, be submitted to, and settled by, arbitration in the city in which the principal place of business of the Company is then located, pursuant to the commercial arbitration rules then in effect of the American Arbitration Association (or at any other time or place or under any other form of arbitration mutually acceptable to the parties involved).  Any award rendered shall be final and conclusive upon the parties and a judgment thereon may be entered in a court of competent jurisdiction.  The expenses of the arbitration shall be borne equally by the parties to the arbitration, provided that each party shall pay for and bear the cost of its own experts, evidence and attorneys’ fees, except that in the discretion of the arbitrator any award may include the attorney’s fees of a party if the arbitrator expressly determines that the party against whom such award is entered has caused the dispute, controversy or claim to be submitted to arbitration as a dilatory tactic or in bad faith.\\n\\n15. Amendments\\n\\n(Check if Applicable)\\n\\n? - MULTI-MEMBER: This Agreement may not be altered, amended, changed, supplemented, waived or modified in any respect or particular unless the same shall be in writing and agreed to by the affirmative vote or consent of Members holding a majority of the Members’ Percentage Interests.  No amendment may be made to Articles that apply to the financial interest of the Members, except by the vote or consent of all of the Members.  No amendment of any provision of this Agreement relating to the voting requirements of the Members on any specific subject shall be made without the affirmative vote or consent of at least the number or percentage of Members required to vote on such subject.\\n\\n16. Indemnification\\n\\na) SINGLE-MEMBER:  The Member (including, for purposes of this Section, any estate, heir, personal representative, receiver, trustee, successor, assignee and/or transferee of the Member) shall not be liable, responsible or accountable, in damages or otherwise, to the Company or any other person for: (i) any act performed, or the omission to perform any act, within the scope of the power and authority conferred on the Member by this agreement and/or by the Statutes except by reason of acts or omissions found by a court of competent jurisdiction upon entry of a final judgment rendered and un-appealable or not timely appealed (“Judicially Determined”) to constitute fraud, gross negligence, recklessness or intentional misconduct; (ii) the termination of the Company and this Agreement pursuant to the terms hereof; (iii) the performance by the Member of, or the omission by the Member to perform, any act which the Member reasonably believed to be consistent with the advice of attorneys, accountants or other professional advisers to the Company with respect to matters relating to the Company, including actions or omissions determined to constitute violations of law but which were not undertaken in bad faith; or (iv) the conduct of any person selected or engaged by the Member.\\n\\nThe Company, its receivers, trustees, successors, assignees and/or transferees shall indemnify, defend and hold the Member harmless from and against any and all liabilities, damages, losses, costs and expenses of any nature whatsoever, known or unknown, liquidated or unliquidated, that are incurred by the Member (including amounts paid in satisfaction of judgments, in settlement of any action, suit, demand, investigation, claim or proceeding (“Claim”), as fines or penalties) and from and against all legal or other such costs as well as the expenses of investigating or defending against any Claim or threatened or anticipated Claim arising out of, connected with or relating to this Agreement, the Company or its business affairs in any way; provided, that the conduct of the Member which gave rise to the action against the Member is indemnifiable under the standards set forth herein.  \\n\\nUpon application, the Member shall be entitled to receive advances to cover the costs of defending or settling any Claim or any threatened or anticipated Claim against the Member that may be subject to indemnification hereunder upon receipt by the Company of any undertaking by or on behalf of the Member to repay such advances to the Company, without interest, if the Member is Judicially Determined not to be entitled to indemnification as set forth herein.\\n\\nAll rights of the Member to indemnification under this Agreement shall (i) be cumulative of, and in addition to, any right to which the Member may be entitled to by contract or as a matter of law or equity, and (ii) survive the dissolution, liquidation or termination of the Company as well as the death, removal, incompetency or insolvency of the Member.\\n\\nThe termination of any Claim or threatened Claim against the Member by judgment, order, settlement or upon a plea of nolo contendere or its equivalent shall not, of itself, cause the Member not to be entitled to indemnification as provided herein unless and until Judicially Determined to not be so entitled.\\n\\n17. Miscellaneous\\n\\nThis Agreement and the rights and liabilities of the parties hereunder shall be governed by and determined in accordance with the laws of the State of California. If any provision of this Agreement shall be invalid or unenforceable, such invalidity or unenforceability shall not affect the other provisions of this Agreement, which shall remain in full force and effect.\\n\\nThe captions in this Agreement are for convenience only and are not to be considered in construing this Agreement.  All pronouns shall be deemed to be the masculine, feminine, neuter, singular or plural as the identity of the person or persons may require.  References to a person or persons shall include partnerships, corporations, limited liability companies, unincorporated associations, trusts, estates and other types of entities.\\n\\nThis Agreement, and any amendments hereto may be executed in counterparts all of which taken together shall constitute one agreement.\\n      \\nThis Agreement sets forth the entire agreement of the parties hereto with respect to the subject matter hereof.  It is the intention of the Member(s) that this Agreement shall be the sole agreement of the parties, and, except to the extent a provision of this Agreement provides for the incorporation of federal income tax rules or is expressly prohibited or ineffective under the Statutes, this Agreement shall govern even when inconsistent with, or different from, the provisions of any applicable law or rule.  To the extent any provision of this Agreement is prohibited or otherwise ineffective under the Statutes, such provision shall be considered to be ineffective to the smallest degree possible in order to make this Agreement effective under the Statutes.  \\n\\nSubject to the limitations on transferability set forth above, this Agreement shall be binding upon and inure to the benefit of the parties hereto and to their respective heirs, executors, administrators, successors and assigns.\\n\\nNo provision of this Agreement is intended to be for the benefit of or enforceable by any third party.\\n\\nIN WITNESS WHEREOF, the parties have executed this Agreement this _____ day of \\n\\n______________________, 20_____.\\n\\n\\n________________________________, LLC\\n\\nBy:____________________________\\t\\t\\t________________________________\\n\\t\\t\\t\\t\\t\\t\\t\\t Member Signature\\n      \\n      ________________________________\\n\\t\\t\\t\\t\\t\\t\\t\\t Member Signature\\n      \\n      ________________________________\\n\\t\\t\\t\\t\\t\\t\\t\\t Member Signature\\n\\n\\n\\n\\n\\n\\n\\n1\\n\\n\\n\\n\\n\\n\\n\""
      ]
     },
     "execution_count": 48,
     "metadata": {},
     "output_type": "execute_result"
    }
   ],
   "source": [
    "#Preview LLC Agreement\n",
    "raw"
   ]
  },
  {
   "cell_type": "code",
   "execution_count": 46,
   "metadata": {},
   "outputs": [
    {
     "name": "stdout",
     "output_type": "stream",
     "text": [
      "[nltk_data] Downloading collection 'all'\n",
      "[nltk_data]    | \n",
      "[nltk_data]    | Downloading package abc to\n",
      "[nltk_data]    |     C:\\Users\\User\\AppData\\Roaming\\nltk_data...\n",
      "[nltk_data]    |   Unzipping corpora\\abc.zip.\n",
      "[nltk_data]    | Downloading package alpino to\n",
      "[nltk_data]    |     C:\\Users\\User\\AppData\\Roaming\\nltk_data...\n",
      "[nltk_data]    |   Unzipping corpora\\alpino.zip.\n",
      "[nltk_data]    | Downloading package biocreative_ppi to\n",
      "[nltk_data]    |     C:\\Users\\User\\AppData\\Roaming\\nltk_data...\n",
      "[nltk_data]    |   Unzipping corpora\\biocreative_ppi.zip.\n",
      "[nltk_data]    | Downloading package brown to\n",
      "[nltk_data]    |     C:\\Users\\User\\AppData\\Roaming\\nltk_data...\n",
      "[nltk_data]    |   Unzipping corpora\\brown.zip.\n",
      "[nltk_data]    | Downloading package brown_tei to\n",
      "[nltk_data]    |     C:\\Users\\User\\AppData\\Roaming\\nltk_data...\n",
      "[nltk_data]    |   Unzipping corpora\\brown_tei.zip.\n",
      "[nltk_data]    | Downloading package cess_cat to\n",
      "[nltk_data]    |     C:\\Users\\User\\AppData\\Roaming\\nltk_data...\n",
      "[nltk_data]    |   Unzipping corpora\\cess_cat.zip.\n",
      "[nltk_data]    | Downloading package cess_esp to\n",
      "[nltk_data]    |     C:\\Users\\User\\AppData\\Roaming\\nltk_data...\n",
      "[nltk_data]    |   Unzipping corpora\\cess_esp.zip.\n",
      "[nltk_data]    | Downloading package chat80 to\n",
      "[nltk_data]    |     C:\\Users\\User\\AppData\\Roaming\\nltk_data...\n",
      "[nltk_data]    |   Unzipping corpora\\chat80.zip.\n",
      "[nltk_data]    | Downloading package city_database to\n",
      "[nltk_data]    |     C:\\Users\\User\\AppData\\Roaming\\nltk_data...\n",
      "[nltk_data]    |   Unzipping corpora\\city_database.zip.\n",
      "[nltk_data]    | Downloading package cmudict to\n",
      "[nltk_data]    |     C:\\Users\\User\\AppData\\Roaming\\nltk_data...\n",
      "[nltk_data]    |   Unzipping corpora\\cmudict.zip.\n",
      "[nltk_data]    | Downloading package comparative_sentences to\n",
      "[nltk_data]    |     C:\\Users\\User\\AppData\\Roaming\\nltk_data...\n",
      "[nltk_data]    |   Unzipping corpora\\comparative_sentences.zip.\n",
      "[nltk_data]    | Downloading package comtrans to\n",
      "[nltk_data]    |     C:\\Users\\User\\AppData\\Roaming\\nltk_data...\n",
      "[nltk_data]    | Downloading package conll2000 to\n",
      "[nltk_data]    |     C:\\Users\\User\\AppData\\Roaming\\nltk_data...\n",
      "[nltk_data]    |   Unzipping corpora\\conll2000.zip.\n",
      "[nltk_data]    | Downloading package conll2002 to\n",
      "[nltk_data]    |     C:\\Users\\User\\AppData\\Roaming\\nltk_data...\n",
      "[nltk_data]    |   Unzipping corpora\\conll2002.zip.\n",
      "[nltk_data]    | Downloading package conll2007 to\n",
      "[nltk_data]    |     C:\\Users\\User\\AppData\\Roaming\\nltk_data...\n",
      "[nltk_data]    | Downloading package crubadan to\n",
      "[nltk_data]    |     C:\\Users\\User\\AppData\\Roaming\\nltk_data...\n",
      "[nltk_data]    |   Unzipping corpora\\crubadan.zip.\n",
      "[nltk_data]    | Downloading package dependency_treebank to\n",
      "[nltk_data]    |     C:\\Users\\User\\AppData\\Roaming\\nltk_data...\n",
      "[nltk_data]    |   Unzipping corpora\\dependency_treebank.zip.\n",
      "[nltk_data]    | Downloading package dolch to\n",
      "[nltk_data]    |     C:\\Users\\User\\AppData\\Roaming\\nltk_data...\n",
      "[nltk_data]    |   Unzipping corpora\\dolch.zip.\n",
      "[nltk_data]    | Downloading package europarl_raw to\n",
      "[nltk_data]    |     C:\\Users\\User\\AppData\\Roaming\\nltk_data...\n",
      "[nltk_data]    |   Unzipping corpora\\europarl_raw.zip.\n",
      "[nltk_data]    | Downloading package floresta to\n",
      "[nltk_data]    |     C:\\Users\\User\\AppData\\Roaming\\nltk_data...\n",
      "[nltk_data]    |   Unzipping corpora\\floresta.zip.\n",
      "[nltk_data]    | Downloading package framenet_v15 to\n",
      "[nltk_data]    |     C:\\Users\\User\\AppData\\Roaming\\nltk_data...\n",
      "[nltk_data]    |   Unzipping corpora\\framenet_v15.zip.\n",
      "[nltk_data]    | Downloading package framenet_v17 to\n",
      "[nltk_data]    |     C:\\Users\\User\\AppData\\Roaming\\nltk_data...\n",
      "[nltk_data]    |   Unzipping corpora\\framenet_v17.zip.\n",
      "[nltk_data]    | Downloading package gazetteers to\n",
      "[nltk_data]    |     C:\\Users\\User\\AppData\\Roaming\\nltk_data...\n",
      "[nltk_data]    |   Unzipping corpora\\gazetteers.zip.\n",
      "[nltk_data]    | Downloading package genesis to\n",
      "[nltk_data]    |     C:\\Users\\User\\AppData\\Roaming\\nltk_data...\n",
      "[nltk_data]    |   Unzipping corpora\\genesis.zip.\n",
      "[nltk_data]    | Downloading package gutenberg to\n",
      "[nltk_data]    |     C:\\Users\\User\\AppData\\Roaming\\nltk_data...\n",
      "[nltk_data]    |   Unzipping corpora\\gutenberg.zip.\n",
      "[nltk_data]    | Downloading package ieer to\n",
      "[nltk_data]    |     C:\\Users\\User\\AppData\\Roaming\\nltk_data...\n",
      "[nltk_data]    |   Unzipping corpora\\ieer.zip.\n",
      "[nltk_data]    | Downloading package inaugural to\n",
      "[nltk_data]    |     C:\\Users\\User\\AppData\\Roaming\\nltk_data...\n",
      "[nltk_data]    |   Unzipping corpora\\inaugural.zip.\n",
      "[nltk_data]    | Downloading package indian to\n",
      "[nltk_data]    |     C:\\Users\\User\\AppData\\Roaming\\nltk_data...\n",
      "[nltk_data]    |   Unzipping corpora\\indian.zip.\n",
      "[nltk_data]    | Downloading package jeita to\n",
      "[nltk_data]    |     C:\\Users\\User\\AppData\\Roaming\\nltk_data...\n",
      "[nltk_data]    | Downloading package kimmo to\n",
      "[nltk_data]    |     C:\\Users\\User\\AppData\\Roaming\\nltk_data...\n",
      "[nltk_data]    |   Unzipping corpora\\kimmo.zip.\n",
      "[nltk_data]    | Downloading package knbc to\n",
      "[nltk_data]    |     C:\\Users\\User\\AppData\\Roaming\\nltk_data...\n",
      "[nltk_data]    | Downloading package lin_thesaurus to\n",
      "[nltk_data]    |     C:\\Users\\User\\AppData\\Roaming\\nltk_data...\n",
      "[nltk_data]    |   Unzipping corpora\\lin_thesaurus.zip.\n",
      "[nltk_data]    | Downloading package mac_morpho to\n",
      "[nltk_data]    |     C:\\Users\\User\\AppData\\Roaming\\nltk_data...\n",
      "[nltk_data]    |   Unzipping corpora\\mac_morpho.zip.\n",
      "[nltk_data]    | Downloading package machado to\n",
      "[nltk_data]    |     C:\\Users\\User\\AppData\\Roaming\\nltk_data...\n",
      "[nltk_data]    | Downloading package masc_tagged to\n",
      "[nltk_data]    |     C:\\Users\\User\\AppData\\Roaming\\nltk_data...\n",
      "[nltk_data]    | Downloading package moses_sample to\n",
      "[nltk_data]    |     C:\\Users\\User\\AppData\\Roaming\\nltk_data...\n",
      "[nltk_data]    |   Unzipping models\\moses_sample.zip.\n",
      "[nltk_data]    | Downloading package movie_reviews to\n",
      "[nltk_data]    |     C:\\Users\\User\\AppData\\Roaming\\nltk_data...\n",
      "[nltk_data]    |   Unzipping corpora\\movie_reviews.zip.\n",
      "[nltk_data]    | Downloading package names to\n",
      "[nltk_data]    |     C:\\Users\\User\\AppData\\Roaming\\nltk_data...\n",
      "[nltk_data]    |   Unzipping corpora\\names.zip.\n",
      "[nltk_data]    | Downloading package nombank.1.0 to\n",
      "[nltk_data]    |     C:\\Users\\User\\AppData\\Roaming\\nltk_data...\n",
      "[nltk_data]    | Downloading package nps_chat to\n",
      "[nltk_data]    |     C:\\Users\\User\\AppData\\Roaming\\nltk_data...\n",
      "[nltk_data]    |   Unzipping corpora\\nps_chat.zip.\n",
      "[nltk_data]    | Downloading package omw to\n",
      "[nltk_data]    |     C:\\Users\\User\\AppData\\Roaming\\nltk_data...\n",
      "[nltk_data]    |   Unzipping corpora\\omw.zip.\n",
      "[nltk_data]    | Downloading package opinion_lexicon to\n",
      "[nltk_data]    |     C:\\Users\\User\\AppData\\Roaming\\nltk_data...\n",
      "[nltk_data]    |   Unzipping corpora\\opinion_lexicon.zip.\n",
      "[nltk_data]    | Downloading package paradigms to\n",
      "[nltk_data]    |     C:\\Users\\User\\AppData\\Roaming\\nltk_data...\n",
      "[nltk_data]    |   Unzipping corpora\\paradigms.zip.\n",
      "[nltk_data]    | Downloading package pil to\n",
      "[nltk_data]    |     C:\\Users\\User\\AppData\\Roaming\\nltk_data...\n",
      "[nltk_data]    |   Unzipping corpora\\pil.zip.\n",
      "[nltk_data]    | Downloading package pl196x to\n",
      "[nltk_data]    |     C:\\Users\\User\\AppData\\Roaming\\nltk_data...\n",
      "[nltk_data]    |   Unzipping corpora\\pl196x.zip.\n",
      "[nltk_data]    | Downloading package ppattach to\n",
      "[nltk_data]    |     C:\\Users\\User\\AppData\\Roaming\\nltk_data...\n",
      "[nltk_data]    |   Unzipping corpora\\ppattach.zip.\n",
      "[nltk_data]    | Downloading package problem_reports to\n",
      "[nltk_data]    |     C:\\Users\\User\\AppData\\Roaming\\nltk_data...\n",
      "[nltk_data]    |   Unzipping corpora\\problem_reports.zip.\n",
      "[nltk_data]    | Downloading package propbank to\n",
      "[nltk_data]    |     C:\\Users\\User\\AppData\\Roaming\\nltk_data...\n",
      "[nltk_data]    | Downloading package ptb to\n",
      "[nltk_data]    |     C:\\Users\\User\\AppData\\Roaming\\nltk_data...\n",
      "[nltk_data]    |   Unzipping corpora\\ptb.zip.\n",
      "[nltk_data]    | Downloading package product_reviews_1 to\n",
      "[nltk_data]    |     C:\\Users\\User\\AppData\\Roaming\\nltk_data...\n",
      "[nltk_data]    |   Unzipping corpora\\product_reviews_1.zip.\n",
      "[nltk_data]    | Downloading package product_reviews_2 to\n",
      "[nltk_data]    |     C:\\Users\\User\\AppData\\Roaming\\nltk_data...\n",
      "[nltk_data]    |   Unzipping corpora\\product_reviews_2.zip.\n",
      "[nltk_data]    | Downloading package pros_cons to\n",
      "[nltk_data]    |     C:\\Users\\User\\AppData\\Roaming\\nltk_data...\n"
     ]
    },
    {
     "name": "stdout",
     "output_type": "stream",
     "text": [
      "[nltk_data]    |   Unzipping corpora\\pros_cons.zip.\n",
      "[nltk_data]    | Downloading package qc to\n",
      "[nltk_data]    |     C:\\Users\\User\\AppData\\Roaming\\nltk_data...\n",
      "[nltk_data]    |   Unzipping corpora\\qc.zip.\n",
      "[nltk_data]    | Downloading package reuters to\n",
      "[nltk_data]    |     C:\\Users\\User\\AppData\\Roaming\\nltk_data...\n",
      "[nltk_data]    | Downloading package rte to\n",
      "[nltk_data]    |     C:\\Users\\User\\AppData\\Roaming\\nltk_data...\n",
      "[nltk_data]    |   Unzipping corpora\\rte.zip.\n",
      "[nltk_data]    | Downloading package semcor to\n",
      "[nltk_data]    |     C:\\Users\\User\\AppData\\Roaming\\nltk_data...\n",
      "[nltk_data]    | Downloading package senseval to\n",
      "[nltk_data]    |     C:\\Users\\User\\AppData\\Roaming\\nltk_data...\n",
      "[nltk_data]    |   Unzipping corpora\\senseval.zip.\n",
      "[nltk_data]    | Downloading package sentiwordnet to\n",
      "[nltk_data]    |     C:\\Users\\User\\AppData\\Roaming\\nltk_data...\n",
      "[nltk_data]    |   Unzipping corpora\\sentiwordnet.zip.\n",
      "[nltk_data]    | Downloading package sentence_polarity to\n",
      "[nltk_data]    |     C:\\Users\\User\\AppData\\Roaming\\nltk_data...\n",
      "[nltk_data]    |   Unzipping corpora\\sentence_polarity.zip.\n",
      "[nltk_data]    | Downloading package shakespeare to\n",
      "[nltk_data]    |     C:\\Users\\User\\AppData\\Roaming\\nltk_data...\n",
      "[nltk_data]    |   Unzipping corpora\\shakespeare.zip.\n",
      "[nltk_data]    | Downloading package sinica_treebank to\n",
      "[nltk_data]    |     C:\\Users\\User\\AppData\\Roaming\\nltk_data...\n",
      "[nltk_data]    |   Unzipping corpora\\sinica_treebank.zip.\n",
      "[nltk_data]    | Downloading package smultron to\n",
      "[nltk_data]    |     C:\\Users\\User\\AppData\\Roaming\\nltk_data...\n",
      "[nltk_data]    |   Unzipping corpora\\smultron.zip.\n",
      "[nltk_data]    | Downloading package state_union to\n",
      "[nltk_data]    |     C:\\Users\\User\\AppData\\Roaming\\nltk_data...\n",
      "[nltk_data]    |   Unzipping corpora\\state_union.zip.\n",
      "[nltk_data]    | Downloading package stopwords to\n",
      "[nltk_data]    |     C:\\Users\\User\\AppData\\Roaming\\nltk_data...\n",
      "[nltk_data]    |   Unzipping corpora\\stopwords.zip.\n",
      "[nltk_data]    | Downloading package subjectivity to\n",
      "[nltk_data]    |     C:\\Users\\User\\AppData\\Roaming\\nltk_data...\n",
      "[nltk_data]    |   Unzipping corpora\\subjectivity.zip.\n",
      "[nltk_data]    | Downloading package swadesh to\n",
      "[nltk_data]    |     C:\\Users\\User\\AppData\\Roaming\\nltk_data...\n",
      "[nltk_data]    |   Unzipping corpora\\swadesh.zip.\n",
      "[nltk_data]    | Downloading package switchboard to\n",
      "[nltk_data]    |     C:\\Users\\User\\AppData\\Roaming\\nltk_data...\n",
      "[nltk_data]    |   Unzipping corpora\\switchboard.zip.\n",
      "[nltk_data]    | Downloading package timit to\n",
      "[nltk_data]    |     C:\\Users\\User\\AppData\\Roaming\\nltk_data...\n",
      "[nltk_data]    |   Unzipping corpora\\timit.zip.\n",
      "[nltk_data]    | Downloading package toolbox to\n",
      "[nltk_data]    |     C:\\Users\\User\\AppData\\Roaming\\nltk_data...\n",
      "[nltk_data]    |   Unzipping corpora\\toolbox.zip.\n",
      "[nltk_data]    | Downloading package treebank to\n",
      "[nltk_data]    |     C:\\Users\\User\\AppData\\Roaming\\nltk_data...\n",
      "[nltk_data]    |   Unzipping corpora\\treebank.zip.\n",
      "[nltk_data]    | Downloading package twitter_samples to\n",
      "[nltk_data]    |     C:\\Users\\User\\AppData\\Roaming\\nltk_data...\n",
      "[nltk_data]    |   Unzipping corpora\\twitter_samples.zip.\n",
      "[nltk_data]    | Downloading package udhr to\n",
      "[nltk_data]    |     C:\\Users\\User\\AppData\\Roaming\\nltk_data...\n",
      "[nltk_data]    |   Unzipping corpora\\udhr.zip.\n",
      "[nltk_data]    | Downloading package udhr2 to\n",
      "[nltk_data]    |     C:\\Users\\User\\AppData\\Roaming\\nltk_data...\n",
      "[nltk_data]    |   Unzipping corpora\\udhr2.zip.\n",
      "[nltk_data]    | Downloading package unicode_samples to\n",
      "[nltk_data]    |     C:\\Users\\User\\AppData\\Roaming\\nltk_data...\n",
      "[nltk_data]    |   Unzipping corpora\\unicode_samples.zip.\n",
      "[nltk_data]    | Downloading package universal_treebanks_v20 to\n",
      "[nltk_data]    |     C:\\Users\\User\\AppData\\Roaming\\nltk_data...\n",
      "[nltk_data]    | Downloading package verbnet to\n",
      "[nltk_data]    |     C:\\Users\\User\\AppData\\Roaming\\nltk_data...\n",
      "[nltk_data]    |   Unzipping corpora\\verbnet.zip.\n",
      "[nltk_data]    | Downloading package verbnet3 to\n",
      "[nltk_data]    |     C:\\Users\\User\\AppData\\Roaming\\nltk_data...\n",
      "[nltk_data]    |   Unzipping corpora\\verbnet3.zip.\n",
      "[nltk_data]    | Downloading package webtext to\n",
      "[nltk_data]    |     C:\\Users\\User\\AppData\\Roaming\\nltk_data...\n",
      "[nltk_data]    |   Unzipping corpora\\webtext.zip.\n",
      "[nltk_data]    | Downloading package wordnet to\n",
      "[nltk_data]    |     C:\\Users\\User\\AppData\\Roaming\\nltk_data...\n",
      "[nltk_data]    |   Unzipping corpora\\wordnet.zip.\n",
      "[nltk_data]    | Downloading package wordnet_ic to\n",
      "[nltk_data]    |     C:\\Users\\User\\AppData\\Roaming\\nltk_data...\n",
      "[nltk_data]    |   Unzipping corpora\\wordnet_ic.zip.\n",
      "[nltk_data]    | Downloading package words to\n",
      "[nltk_data]    |     C:\\Users\\User\\AppData\\Roaming\\nltk_data...\n",
      "[nltk_data]    |   Unzipping corpora\\words.zip.\n",
      "[nltk_data]    | Downloading package ycoe to\n",
      "[nltk_data]    |     C:\\Users\\User\\AppData\\Roaming\\nltk_data...\n",
      "[nltk_data]    |   Unzipping corpora\\ycoe.zip.\n",
      "[nltk_data]    | Downloading package rslp to\n",
      "[nltk_data]    |     C:\\Users\\User\\AppData\\Roaming\\nltk_data...\n",
      "[nltk_data]    |   Unzipping stemmers\\rslp.zip.\n",
      "[nltk_data]    | Downloading package maxent_treebank_pos_tagger to\n",
      "[nltk_data]    |     C:\\Users\\User\\AppData\\Roaming\\nltk_data...\n",
      "[nltk_data]    |   Unzipping taggers\\maxent_treebank_pos_tagger.zip.\n",
      "[nltk_data]    | Downloading package universal_tagset to\n",
      "[nltk_data]    |     C:\\Users\\User\\AppData\\Roaming\\nltk_data...\n",
      "[nltk_data]    |   Unzipping taggers\\universal_tagset.zip.\n",
      "[nltk_data]    | Downloading package maxent_ne_chunker to\n",
      "[nltk_data]    |     C:\\Users\\User\\AppData\\Roaming\\nltk_data...\n",
      "[nltk_data]    |   Unzipping chunkers\\maxent_ne_chunker.zip.\n",
      "[nltk_data]    | Downloading package punkt to\n",
      "[nltk_data]    |     C:\\Users\\User\\AppData\\Roaming\\nltk_data...\n",
      "[nltk_data]    |   Unzipping tokenizers\\punkt.zip.\n",
      "[nltk_data]    | Downloading package book_grammars to\n",
      "[nltk_data]    |     C:\\Users\\User\\AppData\\Roaming\\nltk_data...\n",
      "[nltk_data]    |   Unzipping grammars\\book_grammars.zip.\n",
      "[nltk_data]    | Downloading package sample_grammars to\n",
      "[nltk_data]    |     C:\\Users\\User\\AppData\\Roaming\\nltk_data...\n",
      "[nltk_data]    |   Unzipping grammars\\sample_grammars.zip.\n",
      "[nltk_data]    | Downloading package spanish_grammars to\n",
      "[nltk_data]    |     C:\\Users\\User\\AppData\\Roaming\\nltk_data...\n",
      "[nltk_data]    |   Unzipping grammars\\spanish_grammars.zip.\n",
      "[nltk_data]    | Downloading package basque_grammars to\n",
      "[nltk_data]    |     C:\\Users\\User\\AppData\\Roaming\\nltk_data...\n",
      "[nltk_data]    |   Unzipping grammars\\basque_grammars.zip.\n",
      "[nltk_data]    | Downloading package large_grammars to\n",
      "[nltk_data]    |     C:\\Users\\User\\AppData\\Roaming\\nltk_data...\n",
      "[nltk_data]    |   Unzipping grammars\\large_grammars.zip.\n",
      "[nltk_data]    | Downloading package tagsets to\n",
      "[nltk_data]    |     C:\\Users\\User\\AppData\\Roaming\\nltk_data...\n",
      "[nltk_data]    |   Unzipping help\\tagsets.zip.\n",
      "[nltk_data]    | Downloading package snowball_data to\n",
      "[nltk_data]    |     C:\\Users\\User\\AppData\\Roaming\\nltk_data...\n",
      "[nltk_data]    | Downloading package bllip_wsj_no_aux to\n",
      "[nltk_data]    |     C:\\Users\\User\\AppData\\Roaming\\nltk_data...\n",
      "[nltk_data]    |   Unzipping models\\bllip_wsj_no_aux.zip.\n",
      "[nltk_data]    | Downloading package word2vec_sample to\n",
      "[nltk_data]    |     C:\\Users\\User\\AppData\\Roaming\\nltk_data...\n",
      "[nltk_data]    |   Unzipping models\\word2vec_sample.zip.\n",
      "[nltk_data]    | Downloading package panlex_swadesh to\n",
      "[nltk_data]    |     C:\\Users\\User\\AppData\\Roaming\\nltk_data...\n",
      "[nltk_data]    | Downloading package mte_teip5 to\n",
      "[nltk_data]    |     C:\\Users\\User\\AppData\\Roaming\\nltk_data...\n",
      "[nltk_data]    |   Unzipping corpora\\mte_teip5.zip.\n",
      "[nltk_data]    | Downloading package averaged_perceptron_tagger to\n",
      "[nltk_data]    |     C:\\Users\\User\\AppData\\Roaming\\nltk_data...\n",
      "[nltk_data]    |   Unzipping taggers\\averaged_perceptron_tagger.zip.\n",
      "[nltk_data]    | Downloading package averaged_perceptron_tagger_ru to\n",
      "[nltk_data]    |     C:\\Users\\User\\AppData\\Roaming\\nltk_data...\n",
      "[nltk_data]    |   Unzipping\n",
      "[nltk_data]    |       taggers\\averaged_perceptron_tagger_ru.zip.\n",
      "[nltk_data]    | Downloading package perluniprops to\n",
      "[nltk_data]    |     C:\\Users\\User\\AppData\\Roaming\\nltk_data...\n",
      "[nltk_data]    |   Unzipping misc\\perluniprops.zip.\n",
      "[nltk_data]    | Downloading package nonbreaking_prefixes to\n",
      "[nltk_data]    |     C:\\Users\\User\\AppData\\Roaming\\nltk_data...\n"
     ]
    },
    {
     "name": "stdout",
     "output_type": "stream",
     "text": [
      "[nltk_data]    |   Unzipping corpora\\nonbreaking_prefixes.zip.\n",
      "[nltk_data]    | Downloading package vader_lexicon to\n",
      "[nltk_data]    |     C:\\Users\\User\\AppData\\Roaming\\nltk_data...\n",
      "[nltk_data]    | Downloading package porter_test to\n",
      "[nltk_data]    |     C:\\Users\\User\\AppData\\Roaming\\nltk_data...\n",
      "[nltk_data]    |   Unzipping stemmers\\porter_test.zip.\n",
      "[nltk_data]    | Downloading package wmt15_eval to\n",
      "[nltk_data]    |     C:\\Users\\User\\AppData\\Roaming\\nltk_data...\n",
      "[nltk_data]    |   Unzipping models\\wmt15_eval.zip.\n",
      "[nltk_data]    | Downloading package mwa_ppdb to\n",
      "[nltk_data]    |     C:\\Users\\User\\AppData\\Roaming\\nltk_data...\n",
      "[nltk_data]    |   Unzipping misc\\mwa_ppdb.zip.\n",
      "[nltk_data]    | \n",
      "[nltk_data]  Done downloading collection all\n"
     ]
    },
    {
     "data": {
      "text/plain": [
       "True"
      ]
     },
     "execution_count": 46,
     "metadata": {},
     "output_type": "execute_result"
    }
   ],
   "source": [
    "#Download necessary packages to analyze text\n",
    "import nltk\n",
    "nltk.download('all')"
   ]
  },
  {
   "cell_type": "code",
   "execution_count": 124,
   "metadata": {},
   "outputs": [],
   "source": [
    "#List all words in the agreement\n",
    "llc = nltk.word_tokenize(raw)"
   ]
  },
  {
   "cell_type": "code",
   "execution_count": 127,
   "metadata": {},
   "outputs": [],
   "source": [
    "#Clean the data by removing punctuations and stop words\n",
    "\n",
    "#strip out stopwords from agreement\n",
    "from nltk.corpus import stopwords\n",
    "llc = [x for x in llc if x not in stopwords.words('english')]\n",
    "\n",
    "#strip out punctuations from agreement\n",
    "llc = [x for x in llc if x.isalpha()]"
   ]
  },
  {
   "cell_type": "markdown",
   "metadata": {},
   "source": [
    "# Total Unique words in the corpus"
   ]
  },
  {
   "cell_type": "code",
   "execution_count": 128,
   "metadata": {},
   "outputs": [
    {
     "data": {
      "text/plain": [
       "3640"
      ]
     },
     "execution_count": 128,
     "metadata": {},
     "output_type": "execute_result"
    }
   ],
   "source": [
    "#Total words\n",
    "len(llc)"
   ]
  },
  {
   "cell_type": "code",
   "execution_count": 129,
   "metadata": {},
   "outputs": [
    {
     "data": {
      "text/plain": [
       "1058"
      ]
     },
     "execution_count": 129,
     "metadata": {},
     "output_type": "execute_result"
    }
   ],
   "source": [
    "#Unique words\n",
    "llc_unique = set(llc)\n",
    "len(llc_unique)"
   ]
  },
  {
   "cell_type": "code",
   "execution_count": 130,
   "metadata": {},
   "outputs": [
    {
     "data": {
      "text/plain": [
       "0.2906593406593407"
      ]
     },
     "execution_count": 130,
     "metadata": {},
     "output_type": "execute_result"
    }
   ],
   "source": [
    "#Calculate how many unique words represent the total number of words\n",
    "len(llc_unique)/len(llc)"
   ]
  },
  {
   "cell_type": "markdown",
   "metadata": {},
   "source": [
    "# Unique words over total words \n",
    "Unique words represent roughly 29% of the total words in the agreement.This means that 71% of the document uses the repeated words and the language style is repeated across the document."
   ]
  },
  {
   "cell_type": "markdown",
   "metadata": {},
   "source": [
    "# Identify the 200 highest frequency words"
   ]
  },
  {
   "cell_type": "code",
   "execution_count": 108,
   "metadata": {},
   "outputs": [],
   "source": [
    "#Get Frequency of words in document\n",
    "llc_common = nltk.FreqDist(llc)\n",
    "\n",
    "#top 200 words\n",
    "llc_common2 = pd.DataFrame(llc_top.most_common(200), columns = ['Words','Frequency'])"
   ]
  },
  {
   "cell_type": "code",
   "execution_count": 117,
   "metadata": {
    "scrolled": true
   },
   "outputs": [
    {
     "data": {
      "text/html": [
       "<div>\n",
       "<style scoped>\n",
       "    .dataframe tbody tr th:only-of-type {\n",
       "        vertical-align: middle;\n",
       "    }\n",
       "\n",
       "    .dataframe tbody tr th {\n",
       "        vertical-align: top;\n",
       "    }\n",
       "\n",
       "    .dataframe thead th {\n",
       "        text-align: right;\n",
       "    }\n",
       "</style>\n",
       "<table border=\"1\" class=\"dataframe\">\n",
       "  <thead>\n",
       "    <tr style=\"text-align: right;\">\n",
       "      <th></th>\n",
       "      <th>Words</th>\n",
       "      <th>Frequency</th>\n",
       "    </tr>\n",
       "  </thead>\n",
       "  <tbody>\n",
       "    <tr>\n",
       "      <th>0</th>\n",
       "      <td>Company</td>\n",
       "      <td>172</td>\n",
       "    </tr>\n",
       "    <tr>\n",
       "      <th>1</th>\n",
       "      <td>Member</td>\n",
       "      <td>151</td>\n",
       "    </tr>\n",
       "    <tr>\n",
       "      <th>2</th>\n",
       "      <td>shall</td>\n",
       "      <td>142</td>\n",
       "    </tr>\n",
       "    <tr>\n",
       "      <th>3</th>\n",
       "      <td>Members</td>\n",
       "      <td>100</td>\n",
       "    </tr>\n",
       "    <tr>\n",
       "      <th>4</th>\n",
       "      <td>may</td>\n",
       "      <td>55</td>\n",
       "    </tr>\n",
       "  </tbody>\n",
       "</table>\n",
       "</div>"
      ],
      "text/plain": [
       "     Words  Frequency\n",
       "0  Company        172\n",
       "1   Member        151\n",
       "2    shall        142\n",
       "3  Members        100\n",
       "4      may         55"
      ]
     },
     "execution_count": 117,
     "metadata": {},
     "output_type": "execute_result"
    }
   ],
   "source": [
    "#Preview 5 words\n",
    "llc_common2.head()"
   ]
  },
  {
   "cell_type": "markdown",
   "metadata": {},
   "source": [
    "# Create a graph that shows the relative frequency"
   ]
  },
  {
   "cell_type": "code",
   "execution_count": 110,
   "metadata": {},
   "outputs": [
    {
     "data": {
      "image/png": "[encoded data removed]",
      "text/plain": [
       "<Figure size 432x288 with 1 Axes>"
      ]
     },
     "metadata": {},
     "output_type": "display_data"
    }
   ],
   "source": [
    "#Chart out top 200 words\n",
    "llc_common2.plot.barh(x = 'Words', y = 'Frequency', rot = 1)\n",
    "plt.title(\"Word count in a LLC Document\")\n",
    "plt.show()\n"
   ]
  },
  {
   "cell_type": "code",
   "execution_count": 111,
   "metadata": {},
   "outputs": [
    {
     "data": {
      "image/png": "[encoded data removed]",
      "text/plain": [
       "<Figure size 432x288 with 1 Axes>"
      ]
     },
     "metadata": {},
     "output_type": "display_data"
    }
   ],
   "source": [
    "#chart out top 20 words from graph\n",
    "llc_common_top20 = llc_common2.head(20)\n",
    "llc_common_top20.plot.barh(x = 'Words', y = 'Frequency', rot = 1)\n",
    "plt.title(\"Word count in a LLC Document\")\n",
    "plt.show()"
   ]
  },
  {
   "cell_type": "markdown",
   "metadata": {},
   "source": [
    "# Zipf's law\n",
    "\n",
    "Zipf's law states that given a large sample of words used, the frequency of any word is inversely proportional to its rank in the frequency table. So word number n has a frequency proportional to 1/n.\n",
    "\n",
    "In our case, no this observation does not follows zipf's law it looks like top 4 words are relativly close in frequency. There is a large gap between the top several words and the bottom half.\n"
   ]
  }
 ],
 "metadata": {
  "kernelspec": {
   "display_name": "Python 3",
   "language": "python",
   "name": "python3"
  },
  "language_info": {
   "codemirror_mode": {
    "name": "ipython",
    "version": 3
   },
   "file_extension": ".py",
   "mimetype": "text/x-python",
   "name": "python",
   "nbconvert_exporter": "python",
   "pygments_lexer": "ipython3",
   "version": "3.6.5"
  }
 },
 "nbformat": 4,
 "nbformat_minor": 2
}
